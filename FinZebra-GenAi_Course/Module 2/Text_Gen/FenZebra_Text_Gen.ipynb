{
  "nbformat": 4,
  "nbformat_minor": 0,
  "metadata": {
    "colab": {
      "provenance": [],
      "gpuType": "T4"
    },
    "kernelspec": {
      "name": "python3",
      "display_name": "Python 3"
    },
    "language_info": {
      "name": "python"
    },
    "accelerator": "GPU"
  },
  "cells": [
    {
      "cell_type": "code",
      "execution_count": null,
      "metadata": {
        "id": "DtugNz3oVMBl"
      },
      "outputs": [],
      "source": [
        "from transformers import GPT2LMHeadModel, GPT2Tokenizer\n",
        "\n",
        "# Load pre-trained model and tokenizer\n",
        "tokenizer = GPT2Tokenizer.from_pretrained(\"gpt2\", use_auth_token=None)\n",
        "model = GPT2LMHeadModel.from_pretrained(\"gpt2\")"
      ]
    },
    {
      "cell_type": "code",
      "source": [
        "# Ensure pad token is set (GPT-2 does not have a pad token by default)\n",
        "tokenizer.pad_token = tokenizer.eos_token\n",
        "\n",
        "# Prepare input text\n",
        "prompt = \"Once upon a time\"\n",
        "inputs = tokenizer.encode(prompt, return_tensors=\"pt\")"
      ],
      "metadata": {
        "id": "W_5KeWvDVasc"
      },
      "execution_count": null,
      "outputs": []
    },
    {
      "cell_type": "code",
      "source": [
        "# Generate text with proper settings\n",
        "output = model.generate(\n",
        "    inputs,\n",
        "    max_length=100,\n",
        "    temperature=0.7,\n",
        "    top_k=50,\n",
        "    top_p=0.95,\n",
        "    num_return_sequences=1,\n",
        "    do_sample=True,  # Enable sampling to use temperature and top_p\n",
        "    pad_token_id=tokenizer.eos_token_id,  # Prevent padding-related warnings\n",
        "    attention_mask=inputs.ne(tokenizer.pad_token_id),  # Ensure attention mask is passed\n",
        ")"
      ],
      "metadata": {
        "id": "QnBZ4ZQFWBEl"
      },
      "execution_count": null,
      "outputs": []
    },
    {
      "cell_type": "code",
      "source": [
        "# Decode and print the result\n",
        "generated_text = tokenizer.decode(output[0], skip_special_tokens=True)\n",
        "print(generated_text)"
      ],
      "metadata": {
        "colab": {
          "base_uri": "https://localhost:8080/"
        },
        "id": "HDmRD4inWCe0",
        "outputId": "0a64962b-a484-4e88-8296-75d97c808a75"
      },
      "execution_count": null,
      "outputs": [
        {
          "output_type": "stream",
          "name": "stdout",
          "text": [
            "Once upon a time in the past, she had been a friend of mine, and since then she has been a teacher. I wish I could tell you how wonderful that was.\n",
            "\n",
            "I was told it was because she had taught me so much about how to teach. It seemed like a wonderful thing. I was surprised at how much I liked her. She was a wonderful teacher, a wonderful person. I was surprised to find out that she was not a teacher at all. She was a\n"
          ]
        }
      ]
    }
  ]
}