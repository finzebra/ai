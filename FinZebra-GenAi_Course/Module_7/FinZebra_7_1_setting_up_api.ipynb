{
  "nbformat": 4,
  "nbformat_minor": 0,
  "metadata": {
    "colab": {
      "provenance": []
    },
    "kernelspec": {
      "name": "python3",
      "display_name": "Python 3"
    },
    "language_info": {
      "name": "python"
    }
  },
  "cells": [
    {
      "cell_type": "code",
      "execution_count": 14,
      "metadata": {
        "colab": {
          "base_uri": "https://localhost:8080/",
          "height": 260
        },
        "id": "eXrXYy7yiDQD",
        "outputId": "d17afb6e-78e9-47d2-a3cc-c173ecc40fae"
      },
      "outputs": [
        {
          "output_type": "stream",
          "name": "stdout",
          "text": [
            "API Key OK.\n",
            "Model 'gemini-1.5-flash-latest' ready. Type 'quit' or 'exit' to end.\n",
            "--------------------\n",
            "You: hi\n",
            "🤖 Gemini: Hi there! How can I help you today?\n",
            "\n",
            "You: what's your model name?\n",
            "🤖 Gemini: I am a large language model, trained by Google.\n",
            "\n",
            "You: exit\n",
            "\n",
            "🤖 Gemini: Goodbye!\n",
            "--------------------\n",
            "Chat Ended.\n"
          ]
        }
      ],
      "source": [
        "# [CODE PLACEHOLDER: Reduced Python code for Gemini API Chatbot in Colab]\n",
        "\n",
        "# --- Installation ---\n",
        "!pip install -q -U google-generativeai\n",
        "\n",
        "# --- Imports ---\n",
        "import google.generativeai as genai\n",
        "from google.colab import userdata\n",
        "\n",
        "# --- API Key and Model Setup ---\n",
        "try:\n",
        "    # Configure API Key from Colab Secrets\n",
        "    api_key = userdata.get(\"GOOGLE_API_KEY\")\n",
        "    if not api_key:\n",
        "        raise ValueError(\"Secret 'GOOGLE_API_KEY' not found or empty in Colab secrets.\")\n",
        "    genai.configure(api_key=api_key)\n",
        "    print(\"API Key OK.\")\n",
        "\n",
        "    # Initialize Model and Chat\n",
        "    model_name = 'gemini-1.5-flash-latest' # Or 'gemini-pro'\n",
        "    chat = genai.GenerativeModel(model_name).start_chat(history=[])\n",
        "    print(f\"Model '{model_name}' ready. Type 'quit' or 'exit' to end.\")\n",
        "    print(\"-\" * 20)\n",
        "\n",
        "except Exception as e:\n",
        "    print(f\"Initialization Error: {e}\")\n",
        "    raise # Stop cell execution on critical setup errors\n",
        "\n",
        "# --- Main Chat Loop ---\n",
        "while True:\n",
        "    try:\n",
        "        user_input = input(\"You: \")\n",
        "        if user_input.lower() in ['quit', 'exit', 'bye']:\n",
        "            print(\"\\n🤖 Gemini: Goodbye!\")\n",
        "            break\n",
        "        if not user_input.strip():\n",
        "            print(\"🤖 Gemini: Please say something.\")\n",
        "            continue\n",
        "\n",
        "        response = chat.send_message(user_input)\n",
        "        print(f\"🤖 Gemini: {response.text}\")\n",
        "\n",
        "    except Exception as e:\n",
        "        # Catch errors during chat (e.g., quota, network)\n",
        "        print(f\"\\nError during chat: {e}\")\n",
        "        print(\"Please try again or type 'quit'.\")\n",
        "\n",
        "print(\"-\" * 20)\n",
        "print(\"Chat Ended.\")"
      ]
    },
    {
      "cell_type": "code",
      "source": [],
      "metadata": {
        "id": "UZ7jKY0usDw8"
      },
      "execution_count": null,
      "outputs": []
    }
  ]
}